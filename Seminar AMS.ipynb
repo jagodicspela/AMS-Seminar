{
 "cells": [
  {
   "cell_type": "markdown",
   "metadata": {},
   "source": [
    "# Seminar AMS\n",
    "## Rekonstrukcija manjkajočih modalitet s kontradiktornimi nevronskimi mrežami\n"
   ]
  },
  {
   "cell_type": "markdown",
   "metadata": {},
   "source": [
    "# Priprava podatkov"
   ]
  },
  {
   "cell_type": "markdown",
   "metadata": {},
   "source": [
    "## Funkcije"
   ]
  },
  {
   "cell_type": "code",
   "execution_count": 2,
   "metadata": {},
   "outputs": [
    {
     "name": "stderr",
     "output_type": "stream",
     "text": [
      "/opt/conda/lib/python3.6/site-packages/tensorflow/python/framework/dtypes.py:526: FutureWarning: Passing (type, 1) or '1type' as a synonym of type is deprecated; in a future version of numpy, it will be understood as (type, (1,)) / '(1,)type'.\n",
      "  _np_qint8 = np.dtype([(\"qint8\", np.int8, 1)])\n",
      "/opt/conda/lib/python3.6/site-packages/tensorflow/python/framework/dtypes.py:527: FutureWarning: Passing (type, 1) or '1type' as a synonym of type is deprecated; in a future version of numpy, it will be understood as (type, (1,)) / '(1,)type'.\n",
      "  _np_quint8 = np.dtype([(\"quint8\", np.uint8, 1)])\n",
      "/opt/conda/lib/python3.6/site-packages/tensorflow/python/framework/dtypes.py:528: FutureWarning: Passing (type, 1) or '1type' as a synonym of type is deprecated; in a future version of numpy, it will be understood as (type, (1,)) / '(1,)type'.\n",
      "  _np_qint16 = np.dtype([(\"qint16\", np.int16, 1)])\n",
      "/opt/conda/lib/python3.6/site-packages/tensorflow/python/framework/dtypes.py:529: FutureWarning: Passing (type, 1) or '1type' as a synonym of type is deprecated; in a future version of numpy, it will be understood as (type, (1,)) / '(1,)type'.\n",
      "  _np_quint16 = np.dtype([(\"quint16\", np.uint16, 1)])\n",
      "/opt/conda/lib/python3.6/site-packages/tensorflow/python/framework/dtypes.py:530: FutureWarning: Passing (type, 1) or '1type' as a synonym of type is deprecated; in a future version of numpy, it will be understood as (type, (1,)) / '(1,)type'.\n",
      "  _np_qint32 = np.dtype([(\"qint32\", np.int32, 1)])\n",
      "/opt/conda/lib/python3.6/site-packages/tensorflow/python/framework/dtypes.py:535: FutureWarning: Passing (type, 1) or '1type' as a synonym of type is deprecated; in a future version of numpy, it will be understood as (type, (1,)) / '(1,)type'.\n",
      "  np_resource = np.dtype([(\"resource\", np.ubyte, 1)])\n",
      "Using TensorFlow backend.\n"
     ]
    }
   ],
   "source": [
    "import os\n",
    "import numpy as np\n",
    "import matplotlib.pyplot as plt\n",
    "import SimpleITK as sitk\n",
    "import tensorflow as tf\n",
    "import time\n",
    "from os.path import join\n",
    "from tensorflow.keras.layers import Input, Dense, BatchNormalization, Conv2D, MaxPooling2D, UpSampling2D\n",
    "from tensorflow.keras.models import Model, Sequential\n",
    "import tensorflow.keras as keras\n",
    "#from natsort import natsorted\n",
    "from tqdm import tqdm \n",
    "\n",
    "from amslib import resample_image\n",
    "import amslib"
   ]
  },
  {
   "cell_type": "code",
   "execution_count": 3,
   "metadata": {},
   "outputs": [],
   "source": [
    "def get_slice(iImg,idx):\n",
    "  # Pridobim eno rezino 3D slike\n",
    "  array = sitk.GetArrayFromImage(iImg) \n",
    "  array = array[:,idx,:]\n",
    "  array = array[np.newaxis]\n",
    "  oImg = sitk.GetImageFromArray(array)\n",
    "  return oImg\n",
    "\n",
    "def extract_image(iImg, output_size=(128, 128),  \n",
    "                        crop_size = (200, 150, 1), \n",
    "                        crop_origin = (0, 0, 0),\n",
    "                        interpolation_type=sitk.sitkLinear):\n",
    "  #Prevzorčim in obrežem sliko\n",
    "  new_spacing_mm = (crop_size[0] / output_size[0], crop_size[1] / output_size[1], 1)\n",
    "  oImg = amslib.resample_image(sitk.RegionOfInterest(iImg, crop_size, crop_origin), \n",
    "                               spacing_mm = new_spacing_mm, \n",
    "                               inter_type=interpolation_type)\n",
    "  return oImg\n",
    "\n",
    "def stat_per_channel(values, stat_fcn, modality='t1'):\n",
    "    if modality == 't1':\n",
    "        stat = stat_fcn(np.reshape(values, (values.shape[0]*t1_HEIGHT*t1_WIDTH, t1_CHANNELS)), axis=0)[:, np.newaxis]\n",
    "    elif modality == 't2':\n",
    "        stat = stat_fcn(np.reshape(values, (values.shape[0]*t2_HEIGHT*t2_WIDTH, t2_CHANNELS)), axis=0)[:, np.newaxis]\n",
    "    elif modality == 't1_ks':\n",
    "        stat = stat_fcn(np.reshape(values, (values.shape[0]*t1_ks_HEIGHT*t1_ks_WIDTH, t1_ks_CHANNELS)), axis=0)[:, np.newaxis]\n",
    "    elif modality == 'flair':\n",
    "        stat = stat_fcn(np.reshape(values, (values.shape[0]*flair_HEIGHT*flair_WIDTH, flair_CHANNELS)), axis=0)[:, np.newaxis]\n",
    "    elif modality == 'dir':\n",
    "        stat = stat_fcn(np.reshape(values, (values.shape[0]*dir_HEIGHT*dir_WIDTH, dir_CHANNELS)), axis=0)[:, np.newaxis]\n",
    "    else:\n",
    "        raise ValueError('Modaliteta ni znana!')\n",
    "    return stat"
   ]
  },
  {
   "cell_type": "markdown",
   "metadata": {},
   "source": [
    "## Pregled vseh slik"
   ]
  },
  {
   "cell_type": "code",
   "execution_count": 4,
   "metadata": {},
   "outputs": [],
   "source": [
    "t1_PATH = './data/t1'\n",
    "t1_ks_PATH = './data/t1_ks'\n",
    "t2_PATH = './data/t2'\n",
    "flair_PATH = './data/flair'\n",
    "dir_PATH = './data/dir'"
   ]
  },
  {
   "cell_type": "code",
   "execution_count": 5,
   "metadata": {},
   "outputs": [
    {
     "name": "stdout",
     "output_type": "stream",
     "text": [
      "V mapi ./data/t1 je 28 datotek.\n",
      "V mapi ./data/t1_ks je 27 datotek.\n",
      "V mapi ./data/t2 je 23 datotek.\n",
      "V mapi ./data/flair je 28 datotek.\n",
      "V mapi ./data/dir je 28 datotek.\n"
     ]
    }
   ],
   "source": [
    "t1_patients = os.listdir(t1_PATH)\n",
    "t1_ks_patients = os.listdir(t1_ks_PATH)\n",
    "t2_patients = os.listdir(t2_PATH)\n",
    "flair_patients = os.listdir(flair_PATH)\n",
    "dir_patients = os.listdir(dir_PATH)\n",
    "\n",
    "print('V mapi {:s} je {:d} datotek.'.format(t1_PATH, len(t1_patients)))\n",
    "print('V mapi {:s} je {:d} datotek.'.format(t1_ks_PATH, len(t1_ks_patients)))\n",
    "print('V mapi {:s} je {:d} datotek.'.format(t2_PATH, len(t2_patients)))\n",
    "print('V mapi {:s} je {:d} datotek.'.format(flair_PATH, len(flair_patients)))\n",
    "print('V mapi {:s} je {:d} datotek.'.format(dir_PATH, len(dir_patients)))"
   ]
  },
  {
   "cell_type": "code",
   "execution_count": 6,
   "metadata": {},
   "outputs": [
    {
     "name": "stdout",
     "output_type": "stream",
     "text": [
      "['MS14_20160101_T1W.nii.gz', 'MS21_20160101_T1W.nii.gz', 'MS25_20160101_T1W.nii.gz', 'MS3_20160101_T1W.nii.gz', 'MS11_20160101_T1W.nii.gz', 'MS5_20160101_T1W.nii.gz', 'MS27_20160101_T1W.nii.gz', 'MS20_20160101_T1W.nii.gz', 'MS18_20160101_T1W.nii.gz', 'MS9_20160101_T1W.nii.gz', 'MS13_20160101_T1W.nii.gz', 'MS17_20160101_T1W.nii.gz', 'MS26_20160101_T1W.nii.gz', 'MS28_20160101_T1W.nii.gz', 'MS12_20160101_T1W.nii.gz', 'MS7_20160101_T1W.nii.gz', 'MS2_20160101_T1W.nii.gz', 'MS15_20160101_T1W.nii.gz', 'MS10_20160101_T1W.nii.gz', 'MS22_20160101_T1W.nii.gz', 'MS24_20160101_T1W.nii.gz', 'MS6_20160101_T1W.nii.gz', 'MS16_20160101_T1W.nii.gz', 'MS1_20160101_T1W.nii.gz', 'MS23_20160101_T1W.nii.gz', 'MS8_20160101_T1W.nii.gz', 'MS19_20160101_T1W.nii.gz', 'MS4_20160101_T1W.nii.gz']\n"
     ]
    }
   ],
   "source": [
    "print(os.listdir(t1_PATH))"
   ]
  },
  {
   "cell_type": "markdown",
   "metadata": {},
   "source": [
    "## Izberem eno rezino "
   ]
  },
  {
   "cell_type": "code",
   "execution_count": 7,
   "metadata": {},
   "outputs": [],
   "source": [
    "t1_patient = join(t1_PATH)\n",
    "t2_patient = join(t2_PATH)\n",
    "t1_ks_patient = join(t1_ks_PATH)\n",
    "flair_patient = join(flair_PATH)\n",
    "dir_patient = join(dir_PATH)\n",
    "\n",
    "t1 = sitk.ReadImage(join(t1_patient,'MS1_20160101_T1W.nii.gz'))\n",
    "t2 = sitk.ReadImage(join(t2_patient,'MS1_20160101_T2W.nii.gz'))\n",
    "t1_ks = sitk.ReadImage(join(t1_ks_patient,'MS1_20160101_T1WKS.nii.gz'))\n",
    "flair = sitk.ReadImage(join(flair_patient,'MS1_20160101_FLAIR.nii.gz'))\n",
    "mr_dir = sitk.ReadImage(join(dir_patient,'MS1_20160101_DIR.nii.gz'))"
   ]
  },
  {
   "cell_type": "code",
   "execution_count": 8,
   "metadata": {},
   "outputs": [
    {
     "data": {
      "text/plain": [
       "<matplotlib.image.AxesImage at 0x7f1b8f06acf8>"
      ]
     },
     "execution_count": 8,
     "metadata": {},
     "output_type": "execute_result"
    },
    {
     "data": {
      "image/png": "[encoded data removed]",
      "text/plain": [
       "<Figure size 432x288 with 5 Axes>"
      ]
     },
     "metadata": {
      "needs_background": "light"
     },
     "output_type": "display_data"
    }
   ],
   "source": [
    "img_t1 = sitk.GetArrayFromImage(t1)\n",
    "img_t2 = sitk.GetArrayFromImage(t2)\n",
    "img_t1_ks = sitk.GetArrayFromImage(t1_ks)\n",
    "img_flair = sitk.GetArrayFromImage(flair)\n",
    "img_dir = sitk.GetArrayFromImage(mr_dir)\n",
    "\n",
    "#Indeksi izbranih rezin\n",
    "idx = 112 # T1, T2 in T1 s kontrastom\n",
    "idx_flair = 77\n",
    "idx_dir = 84\n",
    "#Na izbrani rezini bom učila nevronsko mrežo\n",
    "#Dimenzije slik T1, T2 in T1 s kontrastom so 352x165\n",
    "#Dimenzije slik FLAIR so 240x321\n",
    "#Dimenzije slik DIR so 256x300\n",
    "\n",
    "img_t1_1 = img_t1[:,idx,:] \n",
    "img_t2_1 = img_t2[:,idx,:]\n",
    "img_t1_ks_1 = img_t1_ks[:,idx,:]\n",
    "img_flair_1 = img_flair[:,idx_flair,:]\n",
    "img_dir_1 = img_dir[:,idx_dir,:]\n",
    "\n",
    "plt.figure()\n",
    "plt.subplot(231)\n",
    "plt.title('T1 '+str(idx))\n",
    "plt.imshow(img_t1_1,cmap = 'gray')\n",
    "\n",
    "plt.subplot(232)\n",
    "plt.title('T2 '+str(idx))\n",
    "plt.imshow(img_t2_1,cmap = 'gray')\n",
    "\n",
    "plt.subplot(233)\n",
    "plt.title('T1 s kontrastom '+str(idx))\n",
    "plt.imshow(img_t1_ks_1,cmap = 'gray')\n",
    "\n",
    "plt.subplot(234)\n",
    "plt.title('FLAIR '+str(idx_flair))\n",
    "plt.imshow(img_flair_1,cmap = 'gray')\n",
    "\n",
    "plt.subplot(235)\n",
    "plt.title('DIR '+str(idx_dir))\n",
    "plt.imshow(img_dir_1,cmap = 'gray')"
   ]
  },
  {
   "cell_type": "markdown",
   "metadata": {},
   "source": [
    "## Uvoz slik"
   ]
  },
  {
   "cell_type": "code",
   "execution_count": null,
   "metadata": {},
   "outputs": [],
   "source": [
    "# DOLOČIM obrezovanje in vzorčenje\n",
    "\n",
    "import amslib\n",
    "def img2array(img):\n",
    "    return np.squeeze(sitk.GetArrayFromImage(img))\n",
    "\n",
    "# Vzamem samo eno rezino iz 3D slike\n",
    "img = sitk.ReadImage('MS1_20160101_T1W.nii.gz')\n",
    "array = sitk.GetArrayFromImage(img)\n",
    "array = array[:, idx, :][np.newaxis] # Ohranim 3 dimenzije za prevzorčenje\n",
    "img = sitk.GetImageFromArray(array)\n",
    "#############################\n",
    "cropsize = (280,150,1)\n",
    "croporigin = (50,10,0)\n",
    "OUTPUT = (128,128)\n",
    "#############################\n",
    "# Prevzorčim in obrežem\n",
    "print('Originalna velikost: ', img.GetSize())\n",
    "print('Originalni korak vzorčenja: ', img.GetSpacing())\n",
    "img_roi = sitk.RegionOfInterest(img, cropsize, croporigin)\n",
    "print('Velikost po obrezovanju: ', img_roi.GetSize())\n",
    "img_out = amslib.resample_image(img_roi, (cropsize[0]/OUTPUT[0], cropsize[1]/OUTPUT[1], 1.0))  \n",
    "print('Velikost po vzorčenju: ', img_out.GetSize())\n",
    "print('Korak vzorčenja: ', img_out.GetSpacing())\n",
    "\n",
    "# Izris\n",
    "f, (ax1, ax2, ax3) = plt.subplots(1, 3)\n",
    "ax1.imshow(img2array(img), cmap='gray')\n",
    "ax1.set_title('T1 Original')\n",
    "ax1.axis('off')\n",
    "ax2.imshow(img2array(img_roi), cmap='gray')\n",
    "ax2.set_title('T1 Obrezana')\n",
    "ax2.axis('off')\n",
    "ax3.imshow(img2array(img_out), cmap='gray')\n",
    "ax3.set_title('T1 Prevzorčena')\n",
    "ax3.axis('off')"
   ]
  },
  {
   "cell_type": "code",
   "execution_count": 9,
   "metadata": {},
   "outputs": [],
   "source": [
    "# Ustvarimo prostor za posamezno modaliteto \n",
    "t1_data = []; t2_data = []; t1_ks_data = []; flair_data = []; dir_data = []  \n",
    "\n",
    "#Izberemo samo tiste slike, kjer imamo slike vseh petih modalitet\n",
    "list=[1,4,5,6,8,10,11,12,13,14,15,16,17,18,19,20,21,23,26,27,28]\n",
    "\n",
    "#Generiramo imena vseh slik\n",
    "for i in list: \n",
    "    patient_name_t1 = 'MS'+str(i)+'_20160101_T1W.nii.gz'\n",
    "    patient_name_t2 = 'MS'+str(i)+'_20160101_T2W.nii.gz'\n",
    "    patient_name_t1_ks = 'MS'+str(i)+'_20160101_T1WKS.nii.gz'\n",
    "    patient_name_flair = 'MS'+str(i)+'_20160101_FLAIR.nii.gz'\n",
    "    patient_name_dir = 'MS'+str(i)+'_20160101_DIR.nii.gz'\n",
    "\n",
    " # Preberem slike  \n",
    "    img_t1 = get_slice(sitk.ReadImage(join(t1_PATH,patient_name_t1)),idx)\n",
    "    img_t2 = get_slice(sitk.ReadImage(join(t2_PATH,patient_name_t2)),idx)\n",
    "    img_t1_ks = get_slice(sitk.ReadImage(join(t1_ks_PATH,patient_name_t1_ks)),idx)\n",
    "    img_flair = get_slice(sitk.ReadImage(join(flair_PATH,patient_name_flair)),idx_flair)\n",
    "    img_dir = get_slice(sitk.ReadImage(join(dir_PATH,patient_name_dir)),idx_dir)\n",
    "\n",
    " # Obrezovanje in prevzorčenje slik\n",
    "    img_t1 = extract_image(img_t1,crop_size=(280,150,1),crop_origin=(50,10,0))\n",
    "    img_t2 = extract_image(img_t2,crop_size=(280,150,1),crop_origin=(50,10,0))\n",
    "    img_t1_ks = extract_image(img_t1_ks,crop_size=(280,150,1),crop_origin=(50,10,0))\n",
    "    img_flair = extract_image(img_flair,crop_size=(200,280,1),crop_origin=(30,20,0))\n",
    "    img_dir = extract_image(img_dir,crop_size=(200,240,1),crop_origin=(40,30,0))\n",
    "\n",
    "    t1_data.append({'t1':img_t1}) \n",
    "    t2_data.append({'t2':img_t2}) \n",
    "    t1_ks_data.append({'t1_ks':img_t1_ks}) \n",
    "    flair_data.append({'flair':img_flair}) \n",
    "    dir_data.append({'dir':img_dir}) "
   ]
  },
  {
   "cell_type": "markdown",
   "metadata": {},
   "source": [
    "## Oblikujem 3D polja slik"
   ]
  },
  {
   "cell_type": "code",
   "execution_count": 11,
   "metadata": {},
   "outputs": [
    {
     "name": "stdout",
     "output_type": "stream",
     "text": [
      "\n",
      "Velikost T1 polja je (128, 128, 21)\n",
      "Velikost preoblikovanega T1 polja je (21, 128, 128)\n",
      "\n",
      "Velikost T2 polja je (128, 128, 21)\n",
      "Velikost preoblikovanega T2 polja je (21, 128, 128)\n",
      "\n",
      "Velikost T1 s kontrastom polja je (128, 128, 21)\n",
      "Velikost preoblikovanega T1 s kontrastom polja je (21, 128, 128)\n",
      "\n",
      "Velikost FLAIR polja je (128, 128, 21)\n",
      "Velikost preoblikovanega FLAIR polja je (21, 128, 128)\n",
      "\n",
      "Velikost DIR polja je (128, 128, 21)\n",
      "Velikost preoblikovanega DIR polja je (21, 128, 128)\n"
     ]
    }
   ],
   "source": [
    "t1_array = np.dstack([np.squeeze(sitk.GetArrayFromImage(data['t1'])) for data in t1_data])\n",
    "print('\\nVelikost T1 polja je {}'.format(t1_array.shape))\n",
    "t1_array = np.transpose(t1_array,(2,0,1))\n",
    "print('Velikost preoblikovanega T1 polja je {}'.format(t1_array.shape))\n",
    "\n",
    "t2_array = np.dstack([np.squeeze(sitk.GetArrayFromImage(data['t2'])) for data in t2_data])\n",
    "print('\\nVelikost T2 polja je {}'.format(t2_array.shape))\n",
    "t2_array = np.transpose(t2_array,(2,0,1))\n",
    "print('Velikost preoblikovanega T2 polja je {}'.format(t2_array.shape))\n",
    "\n",
    "t1_ks_array = np.dstack([np.squeeze(sitk.GetArrayFromImage(data['t1_ks'])) for data in t1_ks_data])\n",
    "print('\\nVelikost T1 s kontrastom polja je {}'.format(t1_ks_array.shape))\n",
    "t1_ks_array = np.transpose(t1_ks_array,(2,0,1))\n",
    "print('Velikost preoblikovanega T1 s kontrastom polja je {}'.format(t1_ks_array.shape))\n",
    "\n",
    "flair_array = np.dstack([np.squeeze(sitk.GetArrayFromImage(data['flair'])) for data in flair_data])\n",
    "print('\\nVelikost FLAIR polja je {}'.format(flair_array.shape))\n",
    "flair_array = np.transpose(flair_array,(2,0,1))\n",
    "print('Velikost preoblikovanega FLAIR polja je {}'.format(flair_array.shape))\n",
    "\n",
    "dir_array = np.dstack([np.squeeze(sitk.GetArrayFromImage(data['dir'])) for data in dir_data])\n",
    "print('\\nVelikost DIR polja je {}'.format(dir_array.shape))\n",
    "dir_array = np.transpose(dir_array,(2,0,1))\n",
    "print('Velikost preoblikovanega DIR polja je {}'.format(dir_array.shape))"
   ]
  },
  {
   "cell_type": "markdown",
   "metadata": {},
   "source": [
    "## Preoblikujem v format keras"
   ]
  },
  {
   "cell_type": "code",
   "execution_count": 12,
   "metadata": {},
   "outputs": [
    {
     "name": "stdout",
     "output_type": "stream",
     "text": [
      "\n",
      "Keras format: channels_last\n",
      "\n",
      "Velikost T1 polja je (21, 128, 128, 1)\n",
      "\n",
      "Velikost T2 polja je (21, 128, 128, 1)\n",
      "\n",
      "Velikost T1 s kontrastom polja je (21, 128, 128, 1)\n",
      "\n",
      "Velikost FLAIR polja je (21, 128, 128, 1)\n",
      "\n",
      "Velikost DIR polja je (21, 128, 128, 1)\n"
     ]
    }
   ],
   "source": [
    "print('\\nKeras format: {}'.format(keras.backend.image_data_format()))\n",
    "\n",
    "#nevronska mreža potrebuje podatke v keras formatu\n",
    "if keras.backend.image_data_format() == 'channels_first':\n",
    "    t1_keras_array = t1_array[:, np.newaxis, :, :] \n",
    "    t2_keras_array = t2_array[:, np.newaxis, :, :] \n",
    "    t1_ks_keras_array = t1_ks_array[:, np.newaxis, :, :] \n",
    "    flair_keras_array = flair_array[:, np.newaxis, :, :] \n",
    "    dir_keras_array = dir_array[:, np.newaxis, :, :] \n",
    "else:\n",
    "    t1_keras_array = t1_array[:, :, :, np.newaxis]\n",
    "    t2_keras_array = t2_array[:, :, :, np.newaxis]\n",
    "    t1_ks_keras_array = t1_ks_array[:, :, :, np.newaxis]\n",
    "    flair_keras_array = flair_array[:, :, :, np.newaxis]\n",
    "    dir_keras_array = dir_array[:, :, :, np.newaxis]\n",
    "\n",
    "print('\\nVelikost T1 polja je {}'.format(t1_keras_array.shape))\n",
    "print('\\nVelikost T2 polja je {}'.format(t2_keras_array.shape))\n",
    "print('\\nVelikost T1 s kontrastom polja je {}'.format(t1_ks_keras_array.shape))\n",
    "print('\\nVelikost FLAIR polja je {}'.format(flair_keras_array.shape))\n",
    "print('\\nVelikost DIR polja je {}'.format(dir_keras_array.shape))"
   ]
  },
  {
   "cell_type": "markdown",
   "metadata": {},
   "source": [
    "## Normaliziram sivinske vrednosti slik"
   ]
  },
  {
   "cell_type": "code",
   "execution_count": 13,
   "metadata": {},
   "outputs": [
    {
     "name": "stdout",
     "output_type": "stream",
     "text": [
      "\n",
      "Območje sivinskih vrednosti pred normalizacijo:\n",
      "\tt1_min: [0]\n",
      "\tt1_max:[2105]\n",
      "\tt2_min: [0]\n",
      "\tt2_max:[2426]\n",
      "\tt1_ks_min: [0]\n",
      "\tt1_ks_max:[2411]\n",
      "\tflair_min: [0]\n",
      "\tflair_max:[3049]\n",
      "\tdir_min: [0]\n",
      "\tdir_max:[3049]\n",
      "\n",
      "Območje sivinskih vrednosti pred normalizacijo:\n",
      "\tt1_min: [0.]\n",
      "\tt1_max:[1.]\n",
      "\tt2_min: [0.]\n",
      "\tt2_max:[1.]\n",
      "\tt1_ks_min: [0.]\n",
      "\tt1_ks_max:[1.]\n",
      "\tflair_min: [0.]\n",
      "\tflair_max:[1.]\n",
      "\tdir_min: [0.]\n"
     ]
    }
   ],
   "source": [
    "_, t1_HEIGHT, t1_WIDTH, t1_CHANNELS = t1_keras_array.shape\n",
    "_, t2_HEIGHT, t2_WIDTH, t2_CHANNELS = t2_keras_array.shape\n",
    "_, t1_ks_HEIGHT, t1_ks_WIDTH, t1_ks_CHANNELS = t1_ks_keras_array.shape\n",
    "_, flair_HEIGHT, flair_WIDTH, flair_CHANNELS = flair_keras_array.shape\n",
    "_, dir_HEIGHT, dir_WIDTH, dir_CHANNELS = dir_keras_array.shape\n",
    "\n",
    "\n",
    "# Izračunaj mejne sivinske vrednosti\n",
    "min_t1_keras_array, max_t1_keras_array = stat_per_channel(t1_keras_array, np.min), stat_per_channel(t1_keras_array, np.max)\n",
    "min_t2_keras_array, max_t2_keras_array = stat_per_channel(t2_keras_array, np.min), stat_per_channel(t2_keras_array, np.max)\n",
    "min_t1_ks_keras_array, max_t1_ks_keras_array = stat_per_channel(t1_ks_keras_array, np.min), stat_per_channel(t1_ks_keras_array, np.max)\n",
    "min_flair_keras_array, max_flair_keras_array = stat_per_channel(flair_keras_array, np.min), stat_per_channel(flair_keras_array, np.max)\n",
    "min_dir_keras_array, max_dir_keras_array = stat_per_channel(dir_keras_array, np.min), stat_per_channel(dir_keras_array, np.max)\n",
    "\n",
    "print('\\nObmočje sivinskih vrednosti pred normalizacijo:')\n",
    "print('\\tt1_min: {}'.format(min_t1_keras_array.flatten()))\n",
    "print('\\tt1_max:{}'.format(max_t1_keras_array.flatten()))\n",
    "print('\\tt2_min: {}'.format(min_t2_keras_array.flatten()))\n",
    "print('\\tt2_max:{}'.format(max_t2_keras_array.flatten()))\n",
    "print('\\tt1_ks_min: {}'.format(min_t1_ks_keras_array.flatten()))\n",
    "print('\\tt1_ks_max:{}'.format(max_t1_ks_keras_array.flatten()))\n",
    "print('\\tflair_min: {}'.format(min_flair_keras_array.flatten()))\n",
    "print('\\tflair_max:{}'.format(max_dir_keras_array.flatten()))\n",
    "print('\\tdir_min: {}'.format(min_flair_keras_array.flatten()))\n",
    "print('\\tdir_max:{}'.format(max_dir_keras_array.flatten()))\n",
    "      \n",
    "\n",
    "min_t1_keras_array = np.reshape(min_t1_keras_array, (1, 1, 1, t1_CHANNELS)) \n",
    "max_t1_keras_array = np.reshape(max_t1_keras_array, (1, 1, 1, t1_CHANNELS))\n",
    "min_t2_keras_array = np.reshape(min_t2_keras_array, (1, 1, 1, t2_CHANNELS))\n",
    "max_t2_keras_array = np.reshape(max_t2_keras_array, (1, 1, 1, t2_CHANNELS))\n",
    "min_t1_ks_keras_array = np.reshape(min_t1_ks_keras_array, (1, 1, 1, t1_ks_CHANNELS))\n",
    "max_t1_ks_keras_array = np.reshape(max_t1_ks_keras_array, (1, 1, 1, t1_ks_CHANNELS))\n",
    "min_flair_keras_array = np.reshape(min_flair_keras_array, (1, 1, 1, flair_CHANNELS))\n",
    "max_flair_keras_array = np.reshape(max_flair_keras_array, (1, 1, 1, flair_CHANNELS))\n",
    "min_dir_keras_array = np.reshape(min_dir_keras_array, (1, 1, 1, dir_CHANNELS))\n",
    "max_dir_keras_array = np.reshape(max_dir_keras_array, (1, 1, 1, dir_CHANNELS))\n",
    "\n",
    "# Normaliziraj vhodne slike \n",
    "t1_norm = (t1_keras_array - min_t1_keras_array) / (max_t1_keras_array - min_t1_keras_array)\n",
    "t2_norm = (t2_keras_array - min_t2_keras_array) / (max_t2_keras_array - min_t2_keras_array)\n",
    "t1_ks_norm = (t1_ks_keras_array - min_t1_ks_keras_array) / (max_t1_ks_keras_array - min_t1_ks_keras_array)\n",
    "flair_norm = (flair_keras_array - min_flair_keras_array) / (max_flair_keras_array - min_flair_keras_array)\n",
    "dir_norm = (dir_keras_array - min_dir_keras_array) / (max_dir_keras_array - min_dir_keras_array)\n",
    "      \n",
    "min_t1_keras_array, max_t1_keras_array = stat_per_channel(t1_norm, np.min), stat_per_channel(t1_norm, np.max)\n",
    "min_t2_keras_array, max_t2_keras_array = stat_per_channel(t2_norm, np.min), stat_per_channel(t2_norm, np.max)\n",
    "min_t1_ks_keras_array, max_t1_ks_keras_array = stat_per_channel(t1_ks_norm, np.min), stat_per_channel(t1_ks_norm, np.max)\n",
    "min_flair_keras_array, max_flair_keras_array = stat_per_channel(flair_norm, np.min), stat_per_channel(flair_norm, np.max)\n",
    "min_dir_keras_array, max_dir_keras_array = stat_per_channel(dir_norm, np.min), stat_per_channel(dir_norm, np.max)\n",
    "\n",
    "print('\\nObmočje sivinskih vrednosti pred normalizacijo:')\n",
    "print('\\tt1_min: {}'.format(min_t1_keras_array.flatten()))\n",
    "print('\\tt1_max:{}'.format(max_t1_keras_array.flatten()))\n",
    "print('\\tt2_min: {}'.format(min_t2_keras_array.flatten()))\n",
    "print('\\tt2_max:{}'.format(max_t2_keras_array.flatten()))\n",
    "print('\\tt1_ks_min: {}'.format(min_t1_ks_keras_array.flatten()))\n",
    "print('\\tt1_ks_max:{}'.format(max_t1_ks_keras_array.flatten()))\n",
    "print('\\tflair_min: {}'.format(min_flair_keras_array.flatten()))\n",
    "print('\\tflair_max:{}'.format(max_dir_keras_array.flatten()))\n",
    "print('\\tdir_min: {}'.format(min_flair_keras_array.flatten()))"
   ]
  },
  {
   "cell_type": "markdown",
   "metadata": {},
   "source": [
    "## Ustvarim prave direktorije"
   ]
  },
  {
   "cell_type": "code",
   "execution_count": 15,
   "metadata": {},
   "outputs": [
    {
     "name": "stderr",
     "output_type": "stream",
     "text": [
      "  0%|          | 0/13 [00:00<?, ?it/s]\n"
     ]
    },
    {
     "ename": "FileNotFoundError",
     "evalue": "[Errno 2] No such file or directory: './Dataset-name'",
     "output_type": "error",
     "traceback": [
      "\u001b[0;31m---------------------------------------------------------------------------\u001b[0m",
      "\u001b[0;31mFileNotFoundError\u001b[0m                         Traceback (most recent call last)",
      "\u001b[0;32m<ipython-input-15-1677bbe02e05>\u001b[0m in \u001b[0;36m<module>\u001b[0;34m\u001b[0m\n\u001b[1;32m      4\u001b[0m   \u001b[0mDATA_PATH\u001b[0m \u001b[0;34m=\u001b[0m \u001b[0;34m'./Dataset-name'\u001b[0m\u001b[0;34m\u001b[0m\u001b[0;34m\u001b[0m\u001b[0m\n\u001b[1;32m      5\u001b[0m   \u001b[0msubject_dir\u001b[0m \u001b[0;34m=\u001b[0m \u001b[0;34m'trainS'\u001b[0m\u001b[0;34m+\u001b[0m\u001b[0mstr\u001b[0m\u001b[0;34m(\u001b[0m\u001b[0msubject\u001b[0m\u001b[0;34m)\u001b[0m\u001b[0;34m\u001b[0m\u001b[0;34m\u001b[0m\u001b[0m\n\u001b[0;32m----> 6\u001b[0;31m   \u001b[0mos\u001b[0m\u001b[0;34m.\u001b[0m\u001b[0mchdir\u001b[0m\u001b[0;34m(\u001b[0m\u001b[0mDATA_PATH\u001b[0m\u001b[0;34m)\u001b[0m\u001b[0;34m\u001b[0m\u001b[0;34m\u001b[0m\u001b[0m\n\u001b[0m\u001b[1;32m      7\u001b[0m   \u001b[0mos\u001b[0m\u001b[0;34m.\u001b[0m\u001b[0mmkdir\u001b[0m\u001b[0;34m(\u001b[0m\u001b[0msubject_dir\u001b[0m\u001b[0;34m)\u001b[0m\u001b[0;34m\u001b[0m\u001b[0;34m\u001b[0m\u001b[0m\n\u001b[1;32m      8\u001b[0m   \u001b[0mfilePath\u001b[0m \u001b[0;34m=\u001b[0m \u001b[0msubject_dir\u001b[0m\u001b[0;34m\u001b[0m\u001b[0;34m\u001b[0m\u001b[0m\n",
      "\u001b[0;31mFileNotFoundError\u001b[0m: [Errno 2] No such file or directory: './Dataset-name'"
     ]
    }
   ],
   "source": [
    "# Slike za učenje\n",
    "modalities = ['t1','t2','t1_ks','flair','dir']\n",
    "for subject in tqdm(range(1,14)):\n",
    "  DATA_PATH = './Dataset-name'\n",
    "  subject_dir = 'trainS'+str(subject)\n",
    "  os.chdir(DATA_PATH)\n",
    "  os.mkdir(subject_dir)\n",
    "  filePath = subject_dir\n",
    "  os.chdir(filePath)\n",
    "    \n",
    "  for mod in modalities:\n",
    "    filename = mod + '.nii.gz'\n",
    "    if mod == 't1':\n",
    "      tmp = sitk.GetImageFromArray(t1_norm[subject,:,:,:]) \n",
    "    elif mod == 't2':\n",
    "      tmp = sitk.GetImageFromArray(t2_norm[subject,:,:,:])\n",
    "    elif mod == 't1_ks':\n",
    "      tmp = sitk.GetImageFromArray(t1_ks_norm[subject,:,:,:])\n",
    "    elif mod == 'flair':\n",
    "      tmp = sitk.GetImageFromArray(flair_norm[subject,:,:,:])\n",
    "    elif mod == 'dir':\n",
    "      tmp = sitk.GetImageFromArray(dir_norm[subject,:,:,:])\n",
    "    else:\n",
    "      raise ValueError('Ni te modalitete!')\n",
    "    sitk.WriteImage(tmp, filename)\n",
    "  #os.chdir(os.path.dirname(DATA_PATH))\n",
    "  os.chdir('..') #en dir gor\n",
    "  os.chdir('..')\n"
   ]
  },
  {
   "cell_type": "code",
   "execution_count": null,
   "metadata": {},
   "outputs": [],
   "source": [
    "# Slike za učenje\n",
    "os.mkdir('./Dataset-name')\n",
    "modalities = ['t1','t2','t1_ks','flair','dir']\n",
    "for subject in tqdm(range(15,21)):\n",
    "  DATA_PATH = './Dataset-name'\n",
    "  subject_dir = 'testS'+str(subject)\n",
    "  os.chdir(DATA_PATH)\n",
    "  os.mkdir(subject_dir)\n",
    "  filePath = subject_dir\n",
    "  os.chdir(filePath)\n",
    "    \n",
    "  for mod in modalities:\n",
    "    filename = mod + '.nii.gz'\n",
    "    if mod == 't1':\n",
    "      tmp = sitk.GetImageFromArray(t1_norm[subject,:,:,:]) \n",
    "    elif mod == 't2':\n",
    "      tmp = sitk.GetImageFromArray(t2_norm[subject,:,:,:])\n",
    "    elif mod == 't1_ks':\n",
    "      tmp = sitk.GetImageFromArray(t1_ks_norm[subject,:,:,:])\n",
    "    elif mod == 'flair':\n",
    "      tmp = sitk.GetImageFromArray(flair_norm[subject,:,:,:])\n",
    "    elif mod == 'dir':\n",
    "      tmp = sitk.GetImageFromArray(dir_norm[subject,:,:,:])\n",
    "    else:\n",
    "      raise ValueError('Ni te modalitete!')\n",
    "    sitk.WriteImage(tmp, filename)\n",
    "  #os.chdir(os.path.dirname(DATA_PATH))\n",
    "  os.chdir('..') #en dir gor\n",
    "  os.chdir('..')"
   ]
  },
  {
   "cell_type": "markdown",
   "metadata": {},
   "source": [
    "# Učenje nevronske mreže"
   ]
  },
  {
   "cell_type": "code",
   "execution_count": 16,
   "metadata": {},
   "outputs": [
    {
     "name": "stdout",
     "output_type": "stream",
     "text": [
      "/home/jagodicspela/Seminar\n"
     ]
    }
   ],
   "source": [
    "%pwd\n",
    "%cd /home/jagodicspela/Seminar"
   ]
  },
  {
   "cell_type": "code",
   "execution_count": null,
   "metadata": {},
   "outputs": [],
   "source": [
    "from instancenormalization import InstanceNormalization "
   ]
  },
  {
   "cell_type": "code",
   "execution_count": 17,
   "metadata": {},
   "outputs": [
    {
     "name": "stdout",
     "output_type": "stream",
     "text": [
      "WARNING:tensorflow:From /opt/conda/lib/python3.6/site-packages/tensorflow/python/framework/op_def_library.py:263: colocate_with (from tensorflow.python.framework.ops) is deprecated and will be removed in a future version.\n",
      "Instructions for updating:\n",
      "Colocations handled automatically by placer.\n",
      "--- Caching data ---\n"
     ]
    },
    {
     "ename": "NameError",
     "evalue": "name 'load_data' is not defined",
     "output_type": "error",
     "traceback": [
      "\u001b[0;31m---------------------------------------------------------------------------\u001b[0m",
      "\u001b[0;31mNameError\u001b[0m                                 Traceback (most recent call last)",
      "\u001b[0;32m<ipython-input-17-65740e771c38>\u001b[0m in \u001b[0;36m<module>\u001b[0;34m\u001b[0m\n\u001b[1;32m      1\u001b[0m \u001b[0;32mimport\u001b[0m \u001b[0mtrain\u001b[0m \u001b[0;32mas\u001b[0m \u001b[0mdg\u001b[0m\u001b[0;34m\u001b[0m\u001b[0;34m\u001b[0m\u001b[0m\n\u001b[0;32m----> 2\u001b[0;31m \u001b[0mnovGAN\u001b[0m \u001b[0;34m=\u001b[0m \u001b[0mdg\u001b[0m\u001b[0;34m.\u001b[0m\u001b[0mDiamondGAN\u001b[0m\u001b[0;34m(\u001b[0m\u001b[0;34m)\u001b[0m\u001b[0;34m\u001b[0m\u001b[0;34m\u001b[0m\u001b[0m\n\u001b[0m\u001b[1;32m      3\u001b[0m \u001b[0mmodel\u001b[0m \u001b[0;34m=\u001b[0m \u001b[0mnovGAN\u001b[0m\u001b[0;34m.\u001b[0m\u001b[0mime_funkcije\u001b[0m\u001b[0;34m(\u001b[0m\u001b[0;34m)\u001b[0m\u001b[0;34m\u001b[0m\u001b[0;34m\u001b[0m\u001b[0m\n",
      "\u001b[0;32m~/Seminar/train.py\u001b[0m in \u001b[0;36m__init__\u001b[0;34m(self, lr_D, lr_G, img_shape, domain_shape, date_time_string_addition, image_folder)\u001b[0m\n\u001b[1;32m    182\u001b[0m             \u001b[0mnr_S2_train_imgs\u001b[0m \u001b[0;34m=\u001b[0m \u001b[0;36m0\u001b[0m\u001b[0;34m\u001b[0m\u001b[0;34m\u001b[0m\u001b[0m\n\u001b[1;32m    183\u001b[0m             \u001b[0mnr_S3_train_imgs\u001b[0m \u001b[0;34m=\u001b[0m \u001b[0;36m0\u001b[0m\u001b[0;34m\u001b[0m\u001b[0;34m\u001b[0m\u001b[0m\n\u001b[0;32m--> 184\u001b[0;31m         data = load_data.load_data(nr_of_channels=self.channels,\n\u001b[0m\u001b[1;32m    185\u001b[0m                                    \u001b[0mbatch_size\u001b[0m\u001b[0;34m=\u001b[0m\u001b[0mself\u001b[0m\u001b[0;34m.\u001b[0m\u001b[0mbatch_size\u001b[0m\u001b[0;34m,\u001b[0m\u001b[0;34m\u001b[0m\u001b[0;34m\u001b[0m\u001b[0m\n\u001b[1;32m    186\u001b[0m                                    \u001b[0mnr_target_train_imgs\u001b[0m\u001b[0;34m=\u001b[0m\u001b[0mnr_target_train_imgs\u001b[0m\u001b[0;34m,\u001b[0m\u001b[0;34m\u001b[0m\u001b[0;34m\u001b[0m\u001b[0m\n",
      "\u001b[0;31mNameError\u001b[0m: name 'load_data' is not defined"
     ]
    }
   ],
   "source": [
    "import train as dg\n",
    "novGAN = dg.DiamondGAN()\n",
    "model = novGAN.ime_funkcije()"
   ]
  }
 ],
 "metadata": {
  "kernelspec": {
   "display_name": "Python 3",
   "language": "python",
   "name": "python3"
  },
  "language_info": {
   "codemirror_mode": {
    "name": "ipython",
    "version": 3
   },
   "file_extension": ".py",
   "mimetype": "text/x-python",
   "name": "python",
   "nbconvert_exporter": "python",
   "pygments_lexer": "ipython3",
   "version": "3.6.9"
  }
 },
 "nbformat": 4,
 "nbformat_minor": 2
}
